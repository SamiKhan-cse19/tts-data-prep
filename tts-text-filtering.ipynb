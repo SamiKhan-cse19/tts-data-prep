{
 "cells": [
  {
   "cell_type": "code",
   "execution_count": 1,
   "metadata": {},
   "outputs": [
    {
     "name": "stderr",
     "output_type": "stream",
     "text": [
      "/home/samikhan/anaconda3/envs/tts-data/lib/python3.10/site-packages/tqdm/auto.py:21: TqdmWarning: IProgress not found. Please update jupyter and ipywidgets. See https://ipywidgets.readthedocs.io/en/stable/user_install.html\n",
      "  from .autonotebook import tqdm as notebook_tqdm\n",
      "Generating train split: 100%|██████████| 220380/220380 [00:07<00:00, 28194.58 examples/s]\n"
     ]
    },
    {
     "data": {
      "text/plain": [
       "DatasetDict({\n",
       "    train: Dataset({\n",
       "        features: ['rank', 'text'],\n",
       "        num_rows: 220380\n",
       "    })\n",
       "})"
      ]
     },
     "execution_count": 1,
     "metadata": {},
     "output_type": "execute_result"
    }
   ],
   "source": [
    "from datasets import load_dataset\n",
    "data = load_dataset(\"intelsense/code_switch_bangla\")\n",
    "data"
   ]
  },
  {
   "cell_type": "code",
   "execution_count": 2,
   "metadata": {},
   "outputs": [],
   "source": [
    "from espeak_phonemizer import Phonemizer\n",
    "\n",
    "import matplotlib.pyplot as plt\n",
    "import numpy as np\n",
    "from collections import Counter\n",
    "from tqdm import tqdm\n",
    "\n",
    "phonemizer = Phonemizer()"
   ]
  },
  {
   "cell_type": "code",
   "execution_count": 3,
   "metadata": {},
   "outputs": [
    {
     "name": "stdout",
     "output_type": "stream",
     "text": [
      "প্রখ্যাত জীবন গাথা নিয়ে গল্প বলছি।\n",
      "p_ɾ_ˈo_kʰ_æ_t_ˌo_ɟ_ˈi_b_ɔ_n_ɡ_ˈa_tʰ_a_n_ˈi_ɡ_ˈɔ_l_p_ɔ_b_ˈo_l_cʰ_ˌi\n",
      "\n",
      "বহু দিন আগে, একজন সফল businessman ছিলেন, যার জীবন ছিল অনেক চ্যালেঞ্জে ভরা।  \n",
      "b_ˈo_h_u_d_ˈi_n_ˈa_ɡ_e_æ_k_ɟ_ˈɔ_n_ʃ_ˈɔ_f_ɔ_l_(en)_b_ˈɪ_z_n_ə_s_m_ə_n_(bn)_tʃʰ_ˌi_l_e_n_dʒ_ˈa_ɾ_ɟ_ˈi_b_ɔ_n_tʃʰ_ˌi_l_ˈɔ_n_e_k_tʃ_ˈæ_l_e_n_ɟ_ˌe_bʰ_ˈɔ_ɾ_a\n",
      "\n",
      "তাকে অনেকবার failure এর মুখোমুখি হতে হয়েছে, কিন্তু সে কখনো give up করেনি।  \n",
      "t_ˈa_k_e_ˈɔ_n_e_k_ˌɔ_b_a_ɾ_(en)_f_ˈeɪ_l_iə_(bn)_ˌe_ɾ_m_ˈu_kʰ_o_m_ˌu_kʰ_i_h_ˈɔ_t_e_h_ˈɔ_tʃʰ_e_k_ˌi_n_t_u_ʃ_e_k_ˈɔ_kʰ_ɔ_n_ˌo_(en)_ɡ_ˈɪ_v_ˌʌ_p_(bn)_k_ˈɔ_ɾ_e_n_ˌi\n",
      "\n",
      "একটা সময়, তিনি decided করলেন যে, তার নিজের company শুরু করতে হবে।  \n",
      "ˈæ_k_ʈ_aː_ʃ_ˈɔ_m_ɔ_j_ˌo_t_ˈi_n_i_(en)_d_ɪ_s_ˈaɪ_d_ɪ_d_(bn)_k_ˈɔ_ɾ_ɔ_l_ˌe_n_dʒ_ˈe_t_ˌa_ɾ_n_ˈi_ɟ_e_ɾ_(en)_k_ˈʌ_m_p_ə_n_i_(bn)_ʃ_ˈu_ɾ_u_k_ˈɔ_ɾ_ɔ_t_ˌe_h_ˈɔ_b_e\n",
      "\n",
      "initial stage এ অনেক difficulties ছিল, কিন্তু তিনি patience রেখেছিলেন।  \n",
      "(en)_ɪ_n_ˈɪ_ʃ_əl_s_t_ˈeɪ_dʒ_(bn)_e_ˈɔ_n_e_k_(en)_d_ˈɪ_f_ɪ_k_ˌʌ_l_t_i_z_(bn)_tʃʰ_ˌi_l_k_ˌi_n_t_u_t_ˈi_n_i_(en)_p_ˈeɪ_ʃ_ə_n_s_(bn)_ɾ_ˈe_kʰ_e_tʃʰ_ˌi_l_e_n\n",
      "\n",
      "তাঁর মাতা সবসময় বলতেন, \"Hard work is the key to success,\" তাই তিনি বিশ্বাস করতেন।  \n",
      "t_ˈã_ɾ_m_ˈa_t_a_ʃ_ˈɔ_b_ɔ_ʃ_ˌɔ_m_ɔ_j_ˌo_b_ˈɔ_l_ɔ_t_ˌe_n_(en)_h_ˈɑː_d_w_ˈɜː_k_ɪ_z_ð_ə_k_ˈiː_t_ə_s_ə_k_s_ˈɛ_s_(bn)_t_ˈa_i_t_ˈi_n_i_b_ˈi_ʃ_b_a_ʃ_k_ˈɔ_ɾ_ɔ_t_ˌe_n\n",
      "\n",
      "তিনি networking করতে শুরু করলেন এবং অনেক valuable connection তৈরি করলেন।  \n",
      "t_ˈi_n_i_(en)_n_ˈɛ_t_w_ɜː_k_ɪ_ŋ_(bn)_k_ˈɔ_ɾ_ɔ_t_ˌe_ʃ_ˈu_ɾ_u_k_ˈɔ_ɾ_ɔ_l_ˌe_n_ˌe_b_ɔ_ŋ_ˈɔ_n_e_k_(en)_v_ˈa_l_j_uː_ə_b_əl_k_ə_n_ˈɛ_k_ʃ_ə_n_(bn)_t_ˈo_j_ɾ_i_k_ˈɔ_ɾ_ɔ_l_ˌe_n\n",
      "\n",
      "এক সময়, তাঁর business slowly grow করতে শুরু করল এবং profit হতে লাগল।  \n",
      "ˈe_k_ʃ_ˈɔ_m_ɔ_j_ˌo_t_ˈã_ɾ_(en)_b_ˈɪ_z_n_ə_s_s_l_ˈəʊ_l_i_ɡ_ɹ_ˈəʊ_(bn)_k_ˈɔ_ɾ_ɔ_t_ˌe_ʃ_ˈu_ɾ_u_k_ˈɔ_ɾ_ɔ_l_ˌe_b_ɔ_ŋ_(en)_p_ɹ_ˈɒ_f_ɪ_t_(bn)_h_ˈɔ_t_e_l_ˈa_ɡ_ɔ_l\n",
      "\n",
      "কিন্তু sudden market crash এ তাঁর সব কিছু থেকেও হারাতে হলো।  \n",
      "k_ˌi_n_t_u_(en)_s_ˈʌ_d_ə_n_m_ˈɑː_k_ɪ_t_k_ɹ_ˈa_ʃ_(bn)_e_t_ˈã_ɾ_ʃ_ˈɔ_b_k_ˈi_tʃʰ_u_tʰ_ˈe_k_e_ˌoː_h_ˈa_ɾ_a_t_ˌe_h_ˈɔ_l_o\n",
      "\n",
      "তখন তিনি বন্ধুদের সাথে আলোচনা করলেন, এবং সবাই তাঁকে বলেন, \"Don't lose hope, you can bounce back.\"  \n",
      "t_ˈɔ_kʰ_ɔ_n_t_ˈi_n_i_b_ˈo_n_dʰ_u_d_ˌe_ɾ_ʃ_ˈa_tʰ_e_ˈa_l_o_tʃ_ˌɔ_n_a_k_ˈɔ_ɾ_ɔ_l_ˌe_n_ˌe_b_ɔ_ŋ_ʃ_ˈɔ_b_a_ˌi_t_ˈã_k_e_b_ˈɔ_l_e_n_(en)_d_ˈəʊ_n_t_l_ˈuː_z_h_ˈəʊ_p_(bn)_(en)_j_uː_k_a_n_b_ˈaʊ_n_s_b_ˈa_k_(bn)_\n",
      "\n",
      "সত্যি, তিনি আবার recovery করার জন্য new strategy নিয়ে কাজ শুরু করলেন।  \n",
      "ʃ_ˈo_tː_i_t_ˈi_n_i_ˈa_b_a_ɾ_(en)_ɹ_ɪ_k_ˈʌ_v_ə_ɹ_i_(bn)_k_ˈɔ_ɾ_a_ɾ_ɟ_ˈɔ_n_n_ɔ_(en)_n_j_ˈuː_s_t_ɹ_ˈa_t_ə_dʒ_i_(bn)_n_ˈi_e_k_ˈa_ɟ_ʃ_ˈu_ɾ_u_k_ˈɔ_ɾ_ɔ_l_ˌe_n\n",
      "\n",
      "এবার তিনি digital marketing এর দিকে focus করলেন, যা তাঁকে অনেক সাহায্য করল।  \n",
      "ˈe_b_a_ɾ_t_ˈi_n_i_(en)_d_ˈɪ_dʒ_ɪ_t_əl_m_ˈɑː_k_ɪ_t_ɪ_ŋ_(bn)_ˌe_ɾ_d_ˈi_k_e_(en)_f_ˈəʊ_k_ə_s_(bn)_k_ˈɔ_ɾ_ɔ_l_ˌe_n_dʒ_ˈa_t_ˈã_k_e_ˈɔ_n_e_k_ʃ_ˈa_h_a_dʒː_ˌɔ_k_ˈɔ_ɾ_ɔ_l\n",
      "\n",
      "তার persistence প্রদর্শিত হলো এবং তিনি আবার সফল হতে লাগলেন।  \n",
      "t_ˌa_ɾ_(en)_p_ə_s_ˈɪ_s_t_ə_n_s_(bn)_p_ɾ_ˈo_d_ɔ_r_ʃ_ˌi_t_o_h_ˈɔ_l_o_ˌe_b_ɔ_ŋ_t_ˈi_n_i_ˈa_b_a_ɾ_ʃ_ˈɔ_f_ɔ_l_h_ˈɔ_t_e_l_ˈa_ɡ_ɔ_l_ˌe_n\n",
      "\n",
      "এই জীবন গাথা থেকে শেখা যায় যে, failure জানে opportunity, এবং persistence এর কোন substitute নেই।  \n",
      "ˌe_i_ɟ_ˈi_b_ɔ_n_ɡ_ˈa_tʰ_a_tʰ_ˈe_k_e_ʃ_ˈe_kʰ_a_dʒ_ˈa_j_dʒ_ˈe_(en)_f_ˈeɪ_l_iə_(bn)_ɟ_ˈa_n_e_(en)_ɒ_p_ə_t_j_ˈuː_n_ɪ_t_i_(bn)_ˌe_b_ɔ_ŋ_(en)_p_ə_s_ˈɪ_s_t_ə_n_s_(bn)_ˌe_ɾ_k_ˈo_n_(en)_s_ˈʌ_b_s_t_ɪ_t_j_ˌuː_t_(bn)_n_ˈe_i\n",
      "\n",
      "অন্যরা তখন বলতো, \"He is truly an inspiration to many,\" কারণ তিনি সব obstacles অতিক্রম করেছেন।  \n",
      "ˈɔ_n_æ_ɾ_ˌa_t_ˈɔ_kʰ_ɔ_n_b_ˈɔ_l_ɔ_t_ˌo_(en)_h_iː_ɪ_z_t_ɹ_ˈuː_l_i_ɐ_n_ˌɪ_n_s_p_ə_ɹ_ˈeɪ_ʃ_ə_n_t_ə_m_ˈɛ_n_i_(bn)_k_ˈa_ɾ_ɔ_n_t_ˈi_n_i_ʃ_ˈɔ_b_(en)_ˈɒ_b_s_t_ə_k_əl_z_(bn)_ˈo_t_i_k_ɾ_ˌɔ_m_k_ˈɔ_ɾ_e_tʃʰ_ˌe_n\n",
      "\n",
      "এখন তাঁর company অনেক grandes success পেয়েছে এবং তিনি অনেক charity কাজেও involvement করেন।  \n",
      "ˈe_kʰ_ɔ_n_t_ˈã_ɾ_(en)_k_ˈʌ_m_p_ə_n_i_(bn)_ˈɔ_n_e_k_(en)_ɡ_ɹ_ˈa_n_d_z_s_ə_k_s_ˈɛ_s_(bn)_p_ˈe_e_tʃʰ_ˌe_ˌe_b_ɔ_ŋ_t_ˈi_n_i_ˈɔ_n_e_k_(en)_tʃ_ˈa_ɹ_ɪ_t_i_(bn)_k_ˈa_ɟ_e_ˌoː_(en)_ɪ_n_v_ˈɒ_l_v_m_ə_n_t_(bn)_k_ˈɔ_ɾ_e_n\n",
      "\n",
      "শেষ কথা, এই জীবন গাথা আমাদের শেখায় যে, hard work এবং determination নিয়ে চললে সব কিছু সম্ভব।\n",
      "ʃ_ˈe_ʃ_k_ˈɔ_tʰ_a_ˌe_i_ɟ_ˈi_b_ɔ_n_ɡ_ˈa_tʰ_a_ˌa_m_a_d_ˌe_ɾ_ʃ_ˈe_kʰ_a_j_ˌo_dʒ_ˈe_(en)_h_ˈɑː_d_w_ˈɜː_k_(bn)_ˌe_b_ɔ_ŋ_(en)_d_ɪ_t_ˌɜː_m_ɪ_n_ˈeɪ_ʃ_ə_n_(bn)_n_ˈi_e_tʃ_ˈɔ_l_ɔ_l_ˌe_ʃ_ˈɔ_b_k_ˈi_tʃʰ_u_ʃ_ˈɔ_m_bʰ_ɔ_b\n",
      "\n"
     ]
    }
   ],
   "source": [
    "text = data[\"train\"][\"text\"][0]\n",
    "for sentence in text.split(\"\\n\\n\"):\n",
    "    print(sentence)\n",
    "    phonemized_sentence = phonemizer.phonemize(\n",
    "        text=sentence, \n",
    "        voice='bn', \n",
    "        phoneme_separator='_', \n",
    "        word_separator='_',\n",
    "        # keep_clause_breakers=True,\n",
    "        # punctuation_separator='_',\n",
    "        keep_language_flags=True\n",
    "    )\n",
    "    print(phonemized_sentence)\n",
    "    print()"
   ]
  },
  {
   "cell_type": "code",
   "execution_count": null,
   "metadata": {},
   "outputs": [],
   "source": [
    "#show phoneme distribution\n",
    "phoneme_counter = Counter()\n",
    "\n",
    "kept_sentences = []\n",
    "\n",
    "f = open(\"kept_sentences.txt\", \"w\")\n",
    "\n",
    "threshold = 1000\n",
    "\n",
    "for text in tqdm(data[\"train\"][\"text\"][:100000]):\n",
    "    for sentence in text.split(\"\\n\\n\"):\n",
    "        sentence = sentence.strip()\n",
    "        if len(sentence) == 0:\n",
    "            continue\n",
    "        phonemized_sentence = phonemizer.phonemize(\n",
    "            text=sentence, \n",
    "            voice='bn', \n",
    "            phoneme_separator='_', \n",
    "            word_separator='_',\n",
    "            keep_clause_breakers=True,\n",
    "            punctuation_separator='_',\n",
    "            keep_language_flags=True\n",
    "        )\n",
    "        new_phoneme_counter = Counter(\"_\".join(phonemized_sentence).split(\"_\"))\n",
    "        if phoneme_counter[new_phoneme_counter.most_common()[-1][0]] > threshold:\n",
    "            continue\n",
    "        phoneme_counter = phoneme_counter + new_phoneme_counter\n",
    "        kept_sentences.append(sentence)\n",
    "        f.write(sentence + \"\\n\")\n",
    "f.close()"
   ]
  },
  {
   "cell_type": "code",
   "execution_count": 8,
   "metadata": {},
   "outputs": [
    {
     "name": "stdout",
     "output_type": "stream",
     "text": [
      "সে বলল, pay equity এর concept টা এখন খুব অনেক পপুলার।  \n",
      "\n",
      "ʃ_e_b_ˈɔ_l_ɔ_l_,_(en)_p_ˈeɪ_ˈɛ_k_w_ɪ_t_i_(bn)_ˌe_ɾ_(en)_k_ˈɒ_n_s_ɛ_p_t_(bn)_ʈ_ˈa_ˈe_kʰ_ɔ_n_kʰ_ˈu_b_ˈɔ_n_e_k_p_ˈo_p_u_l_ˌa_ɾ\n",
      "\n",
      "আমি জিজ্ঞাসা করলাম, pay equity আসলে কি?  \n",
      "\n",
      "ˌa_m_i_ɟ_ˈi_ɡ_ɡ_a_ʃ_ˌa_k_ˈɔ_ɾ_ɔ_l_ˌa_m_,_(en)_p_ˈeɪ_ˈɛ_k_w_ɪ_t_i_(bn)_ˈa_ʃ_ɔ_l_ˌe_k_i_?\n",
      "\n",
      "তখন সে বলল, pay equity মানে হচ্ছে একই কাজের জন্য একই বেতন পাওয়া।  \n",
      "\n",
      "t_ˈɔ_kʰ_ɔ_n_ʃ_e_b_ˈɔ_l_ɔ_l_,_(en)_p_ˈeɪ_ˈɛ_k_w_ɪ_t_i_(bn)_m_ˈa_n_e_h_ˈɔ_tʃ_tʃʰ_e_ˈe_k_ɔ_ˌi_k_ˈa_ɟ_e_ɾ_ɟ_ˈɔ_n_n_ɔ_ˈe_k_ɔ_ˌi_b_ˈe_t_ɔ_n_p_ˈa_oː\n",
      "\n",
      "এটা অনেক ভোটার들에게 fairness এর ধারণা দেয়।  \n",
      "\n",
      "ˌe_ʈ_a_ˈɔ_n_e_k_bʰ_ˈɔ_ˈo_k_a_ɾ_ʈ_ˈɔ_ˈa_k_a_ɾ_ɾ_ˈɔ_(en)_h_ˈa_ŋ_ɡ_u_l_(bn)_d_i_q_ˈɔ_aː_(en)_h_ˈa_ŋ_ɡ_u_l_(bn)_ˈɔ_(en)_h_ˈa_ŋ_ɡ_u_l_(bn)_ɫ_(en)_h_ˈa_ŋ_ɡ_u_l_(bn)_ˈe_(en)_h_ˈa_ŋ_ɡ_u_l_(bn)_ɡ_i_j_ˈə_q_(en)_h_ˈa_ŋ_ɡ_u_l_(bn)_ˈe_(en)_f_ˈeə_n_ə_s_(bn)_ˌe_ɾ_dʰ_ˈa_ɾ_ɔ_n_ˌa_d_ˈe_j\n",
      "\n",
      "তবে আমাদের দেশে এই বিষয়টা এখনও সেভাবে জনপ্রিয় নয়।  \n",
      "\n",
      "t_ˈɔ_b_e_ˌa_m_a_d_ˌe_ɾ_d_ˈe_ʃ_e_ˌe_i_b_ˈi_ʃ_ɔ_j_ˌɔ_ʈ_a_ˈe_kʰ_ɔ_n_ˌɔ_oː_ʃ_ˈe_bʰ_a_b_ˌe_ɟ_ˈɔ_n_ɔ_p_ɾ_ˌi_j_n_ˈɔ_j\n",
      "\n",
      "আজকাল অনেক companies pay equity নিয়ে discussions চালাচ্ছে।  \n",
      "\n",
      "ˈa_ɟ_ɔ_k_ˌa_l_ˈɔ_n_e_k_(en)_k_ˈʌ_m_p_ə_n_i_z_p_ˈeɪ_ˈɛ_k_w_ɪ_t_i_(bn)_n_ˈi_(en)_d_ɪ_s_k_ˈʌ_ʃ_ə_n_z_(bn)_tʃ_ˈa_l_a_tʃ_tʃʰ_ˌe\n",
      "\n",
      "যদিও আমাদের industry তে still অনেক disparity আছে।  \n",
      "\n",
      "dʒ_ˈo_d_i_ˌoː_ˌa_m_a_d_ˌe_ɾ_(en)_ˈɪ_n_d_ʌ_s_t_ɹ_i_(bn)_t_ˈe_(en)_s_t_ˈɪ_l_(bn)_ˈɔ_n_e_k_(en)_d_ɪ_s_p_ˈa_ɹ_ɪ_t_i_(bn)_ˈa_tʃʰ_e\n",
      "\n",
      "আমি মনে করি, pay equity নিশ্চিত করা খুব জরুরি।  \n",
      "\n",
      "ˌa_m_i_m_ˈɔ_n_e_k_ˈo_ɾ_i_,_(en)_p_ˈeɪ_ˈɛ_k_w_ɪ_t_i_(bn)_n_ˈi_ʃ_tʃ_i_t_ˌo_k_ˈɔ_ɾ_a_kʰ_ˈu_b_ɟ_ˈo_ɾ_u_ɾ_ˌi\n",
      "\n",
      "এতে employee satisfaction বাড়ে এবং retention বাড়ে।  \n",
      "\n",
      "ˈe_t_e_(en)_ɛ_m_p_l_ˈɔɪ_iː_s_ˌa_t_ɪ_s_f_ˈa_k_ʃ_ə_n_(bn)_b_ˈa_r._ˌe_b_ɔ_ŋ_(en)_ɹ_ɪ_t_ˈɛ_n_ʃ_ə_n_(bn)_b_ˈa_r.\n",
      "\n",
      "সেই সাথে অর্কানাইজেশন এর performance ও ভালো হয়।  \n",
      "\n",
      "ʃ_ˈe_i_ʃ_ˈa_tʰ_e_ˈɔ_ɾ_k_a_n_ˌa_i_ɟ_ˌe_ʃ_ɔ_n_ˌe_ɾ_(en)_p_ə_f_ˈɔː_m_ə_n_s_(bn)_oː_bʰ_ˈa_l_o_h_ˌɔ_j\n",
      "\n"
     ]
    }
   ],
   "source": [
    "with open('kept_sentences.txt', 'r') as file:\n",
    "  kept_sentences = file.readlines()\n",
    "\n",
    "for sentence in kept_sentences[-20:-10]:\n",
    "  phonemized_sentence = phonemizer.phonemize(\n",
    "    text=sentence, \n",
    "    voice='bn', \n",
    "    phoneme_separator='_', \n",
    "    word_separator='_',\n",
    "    keep_clause_breakers=True,\n",
    "    punctuation_separator='_',\n",
    "    keep_language_flags=True\n",
    "  )\n",
    "  print(sentence)\n",
    "  print(phonemized_sentence) \n",
    "  print()"
   ]
  },
  {
   "cell_type": "code",
   "execution_count": null,
   "metadata": {},
   "outputs": [],
   "source": []
  }
 ],
 "metadata": {
  "kernelspec": {
   "display_name": "tts-data",
   "language": "python",
   "name": "python3"
  },
  "language_info": {
   "codemirror_mode": {
    "name": "ipython",
    "version": 3
   },
   "file_extension": ".py",
   "mimetype": "text/x-python",
   "name": "python",
   "nbconvert_exporter": "python",
   "pygments_lexer": "ipython3",
   "version": "3.10.15"
  }
 },
 "nbformat": 4,
 "nbformat_minor": 2
}
